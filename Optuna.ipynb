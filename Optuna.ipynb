{
 "cells": [
  {
   "cell_type": "markdown",
   "id": "2dbd407e",
   "metadata": {},
   "source": [
    "Optuna is an open-source hyperparameter optimization (HPO) framework for machine learning. It provides a simple and efficient way to search for optimal hyperparameters in a given machine learning model or algorithm. Optuna automates the process of tuning hyperparameters by using various search algorithms and pruning techniques to efficiently explore the hyperparameter space."
   ]
  },
  {
   "cell_type": "code",
   "execution_count": 1,
   "id": "b330a0fc",
   "metadata": {},
   "outputs": [
    {
     "name": "stdout",
     "output_type": "stream",
     "text": [
      "Collecting optuna\n",
      "  Downloading optuna-3.2.0-py3-none-any.whl (390 kB)\n",
      "Collecting alembic>=1.5.0\n",
      "  Downloading alembic-1.11.1-py3-none-any.whl (224 kB)\n",
      "Requirement already satisfied: PyYAML in c:\\users\\manoj\\anaconda3\\lib\\site-packages (from optuna) (6.0)\n",
      "Requirement already satisfied: packaging>=20.0 in c:\\users\\manoj\\anaconda3\\lib\\site-packages (from optuna) (21.3)\n",
      "Requirement already satisfied: numpy in c:\\users\\manoj\\anaconda3\\lib\\site-packages (from optuna) (1.21.5)\n",
      "Requirement already satisfied: tqdm in c:\\users\\manoj\\anaconda3\\lib\\site-packages (from optuna) (4.64.0)\n",
      "Collecting cmaes>=0.9.1\n",
      "  Downloading cmaes-0.9.1-py3-none-any.whl (21 kB)\n",
      "Requirement already satisfied: sqlalchemy>=1.3.0 in c:\\users\\manoj\\anaconda3\\lib\\site-packages (from optuna) (1.4.32)\n",
      "Collecting colorlog\n",
      "  Downloading colorlog-6.7.0-py2.py3-none-any.whl (11 kB)\n",
      "Collecting Mako\n",
      "  Downloading Mako-1.2.4-py3-none-any.whl (78 kB)\n",
      "Requirement already satisfied: typing-extensions>=4 in c:\\users\\manoj\\anaconda3\\lib\\site-packages (from alembic>=1.5.0->optuna) (4.5.0)\n",
      "Requirement already satisfied: pyparsing!=3.0.5,>=2.0.2 in c:\\users\\manoj\\anaconda3\\lib\\site-packages (from packaging>=20.0->optuna) (3.0.4)\n",
      "Requirement already satisfied: greenlet!=0.4.17 in c:\\users\\manoj\\anaconda3\\lib\\site-packages (from sqlalchemy>=1.3.0->optuna) (1.1.1)\n",
      "Requirement already satisfied: colorama in c:\\users\\manoj\\anaconda3\\lib\\site-packages (from colorlog->optuna) (0.4.6)\n",
      "Requirement already satisfied: MarkupSafe>=0.9.2 in c:\\users\\manoj\\anaconda3\\lib\\site-packages (from Mako->alembic>=1.5.0->optuna) (2.0.1)\n",
      "Installing collected packages: Mako, colorlog, cmaes, alembic, optuna\n",
      "Successfully installed Mako-1.2.4 alembic-1.11.1 cmaes-0.9.1 colorlog-6.7.0 optuna-3.2.0\n"
     ]
    }
   ],
   "source": [
    "!pip install optuna"
   ]
  },
  {
   "cell_type": "code",
   "execution_count": 16,
   "id": "b015efda",
   "metadata": {},
   "outputs": [],
   "source": [
    "import optuna\n",
    "import sklearn.datasets\n",
    "import sklearn.ensemble\n",
    "import sklearn.model_selection\n",
    "import sklearn.svm\n",
    "from sklearn import metrics"
   ]
  },
  {
   "cell_type": "code",
   "execution_count": 3,
   "id": "bff6d913",
   "metadata": {},
   "outputs": [],
   "source": [
    "iris = sklearn.datasets.load_iris()\n",
    "X, y = iris.data, iris.target"
   ]
  },
  {
   "cell_type": "code",
   "execution_count": 4,
   "id": "28952976",
   "metadata": {},
   "outputs": [
    {
     "data": {
      "text/plain": [
       "(150, 4)"
      ]
     },
     "execution_count": 4,
     "metadata": {},
     "output_type": "execute_result"
    }
   ],
   "source": [
    "X.shape"
   ]
  },
  {
   "cell_type": "code",
   "execution_count": 6,
   "id": "1402fedb",
   "metadata": {},
   "outputs": [],
   "source": [
    "from sklearn.model_selection import train_test_split\n",
    "X_train,X_test,y_train,y_test = train_test_split(X,y,random_state=42,test_size=0.33)"
   ]
  },
  {
   "cell_type": "markdown",
   "id": "2077d3e7",
   "metadata": {},
   "source": [
    "In this case, the suggest_float method will suggest a floating-point value for the svc_c hyperparameter within the range specified (from 1e-10 to 1e10) using a logarithmic scale. You can then use this suggested value when configuring and training your SVM classifier."
   ]
  },
  {
   "cell_type": "code",
   "execution_count": 8,
   "id": "ac983629",
   "metadata": {},
   "outputs": [],
   "source": [
    "def objective(trial):\n",
    "    classifier_name = trial.suggest_categorical(\"classifier\", [\"SVC\", \"RandomForest\"])\n",
    "    if classifier_name == \"SVC\":\n",
    "        svc_c = trial.suggest_float(\"svc_c\", 1e-10, 1e10, log=True)\n",
    "        classifier_obj = sklearn.svm.SVC(C=svc_c, gamma=\"auto\")\n",
    "    else:\n",
    "        rf_max_depth = trial.suggest_int(\"rf_max_depth\", 2, 32, log=True)\n",
    "        classifier_obj = sklearn.ensemble.RandomForestClassifier(\n",
    "            max_depth=rf_max_depth, n_estimators=10\n",
    "        )\n",
    "\n",
    "    score = sklearn.model_selection.cross_val_score(classifier_obj, X_train, y_train, n_jobs=-1, cv=3)\n",
    "    accuracy = score.mean()\n",
    "    return accuracy"
   ]
  },
  {
   "cell_type": "code",
   "execution_count": 9,
   "id": "0b2a564e",
   "metadata": {},
   "outputs": [
    {
     "name": "stderr",
     "output_type": "stream",
     "text": [
      "[I 2023-05-30 11:03:18,187] A new study created in memory with name: no-name-95dd2d78-48a8-4945-ba7b-d16e6f000cb0\n",
      "[I 2023-05-30 11:03:25,504] Trial 0 finished with value: 0.929590017825312 and parameters: {'classifier': 'SVC', 'svc_c': 8217489007.697121}. Best is trial 0 with value: 0.929590017825312.\n",
      "[I 2023-05-30 11:03:26,430] Trial 1 finished with value: 0.919489007724302 and parameters: {'classifier': 'RandomForest', 'rf_max_depth': 23}. Best is trial 0 with value: 0.929590017825312.\n",
      "[I 2023-05-30 11:03:27,404] Trial 2 finished with value: 0.929590017825312 and parameters: {'classifier': 'RandomForest', 'rf_max_depth': 12}. Best is trial 0 with value: 0.929590017825312.\n",
      "[I 2023-05-30 11:03:28,193] Trial 3 finished with value: 0.9494949494949495 and parameters: {'classifier': 'RandomForest', 'rf_max_depth': 31}. Best is trial 3 with value: 0.9494949494949495.\n",
      "[I 2023-05-30 11:03:28,968] Trial 4 finished with value: 0.9099821746880571 and parameters: {'classifier': 'RandomForest', 'rf_max_depth': 3}. Best is trial 3 with value: 0.9494949494949495.\n",
      "[I 2023-05-30 11:03:29,527] Trial 5 finished with value: 0.9292929292929294 and parameters: {'classifier': 'RandomForest', 'rf_max_depth': 5}. Best is trial 3 with value: 0.9494949494949495.\n",
      "[I 2023-05-30 11:03:29,560] Trial 6 finished with value: 0.8086749851455733 and parameters: {'classifier': 'SVC', 'svc_c': 0.04018586512576903}. Best is trial 3 with value: 0.9494949494949495.\n",
      "[I 2023-05-30 11:03:29,575] Trial 7 finished with value: 0.929590017825312 and parameters: {'classifier': 'SVC', 'svc_c': 2211933.6343696164}. Best is trial 3 with value: 0.9494949494949495.\n",
      "[I 2023-05-30 11:03:29,606] Trial 8 finished with value: 0.9393939393939394 and parameters: {'classifier': 'RandomForest', 'rf_max_depth': 10}. Best is trial 3 with value: 0.9494949494949495.\n",
      "[I 2023-05-30 11:03:29,622] Trial 9 finished with value: 0.4988116458704694 and parameters: {'classifier': 'SVC', 'svc_c': 6.739704788788386e-07}. Best is trial 3 with value: 0.9494949494949495.\n",
      "[I 2023-05-30 11:03:29,653] Trial 10 finished with value: 0.9096850861556743 and parameters: {'classifier': 'RandomForest', 'rf_max_depth': 29}. Best is trial 3 with value: 0.9494949494949495.\n",
      "[I 2023-05-30 11:03:29,747] Trial 11 finished with value: 0.9197860962566845 and parameters: {'classifier': 'RandomForest', 'rf_max_depth': 11}. Best is trial 3 with value: 0.9494949494949495.\n",
      "[I 2023-05-30 11:03:29,794] Trial 12 finished with value: 0.9292929292929294 and parameters: {'classifier': 'RandomForest', 'rf_max_depth': 32}. Best is trial 3 with value: 0.9494949494949495.\n",
      "[I 2023-05-30 11:03:29,826] Trial 13 finished with value: 0.929590017825312 and parameters: {'classifier': 'RandomForest', 'rf_max_depth': 12}. Best is trial 3 with value: 0.9494949494949495.\n",
      "[I 2023-05-30 11:03:29,873] Trial 14 finished with value: 0.9292929292929294 and parameters: {'classifier': 'RandomForest', 'rf_max_depth': 2}. Best is trial 3 with value: 0.9494949494949495.\n",
      "[I 2023-05-30 11:03:29,904] Trial 15 finished with value: 0.9194890077243018 and parameters: {'classifier': 'RandomForest', 'rf_max_depth': 6}. Best is trial 3 with value: 0.9494949494949495.\n",
      "[I 2023-05-30 11:03:29,935] Trial 16 finished with value: 0.919489007724302 and parameters: {'classifier': 'RandomForest', 'rf_max_depth': 18}. Best is trial 3 with value: 0.9494949494949495.\n",
      "[I 2023-05-30 11:03:29,971] Trial 17 finished with value: 0.929590017825312 and parameters: {'classifier': 'RandomForest', 'rf_max_depth': 17}. Best is trial 3 with value: 0.9494949494949495.\n",
      "[I 2023-05-30 11:03:29,984] Trial 18 finished with value: 0.4988116458704694 and parameters: {'classifier': 'SVC', 'svc_c': 2.4354813745942315e-09}. Best is trial 3 with value: 0.9494949494949495.\n",
      "[I 2023-05-30 11:03:30,031] Trial 19 finished with value: 0.919489007724302 and parameters: {'classifier': 'RandomForest', 'rf_max_depth': 8}. Best is trial 3 with value: 0.9494949494949495.\n",
      "[I 2023-05-30 11:03:30,062] Trial 20 finished with value: 0.929590017825312 and parameters: {'classifier': 'RandomForest', 'rf_max_depth': 21}. Best is trial 3 with value: 0.9494949494949495.\n",
      "[I 2023-05-30 11:03:30,078] Trial 21 finished with value: 0.929590017825312 and parameters: {'classifier': 'SVC', 'svc_c': 3977097059.170588}. Best is trial 3 with value: 0.9494949494949495.\n",
      "[I 2023-05-30 11:03:30,093] Trial 22 finished with value: 0.929590017825312 and parameters: {'classifier': 'SVC', 'svc_c': 21070.658331304556}. Best is trial 3 with value: 0.9494949494949495.\n",
      "[I 2023-05-30 11:03:30,109] Trial 23 finished with value: 0.929590017825312 and parameters: {'classifier': 'SVC', 'svc_c': 4393676031.512317}. Best is trial 3 with value: 0.9494949494949495.\n",
      "[I 2023-05-30 11:03:30,125] Trial 24 finished with value: 0.9497920380273323 and parameters: {'classifier': 'SVC', 'svc_c': 29.513455802739703}. Best is trial 24 with value: 0.9497920380273323.\n",
      "[I 2023-05-30 11:03:30,140] Trial 25 finished with value: 0.8897801544860369 and parameters: {'classifier': 'SVC', 'svc_c': 0.1089893461240877}. Best is trial 24 with value: 0.9497920380273323.\n",
      "[I 2023-05-30 11:03:30,172] Trial 26 finished with value: 0.9497920380273323 and parameters: {'classifier': 'SVC', 'svc_c': 34.53422723044243}. Best is trial 24 with value: 0.9497920380273323.\n",
      "[I 2023-05-30 11:03:30,188] Trial 27 finished with value: 0.929590017825312 and parameters: {'classifier': 'SVC', 'svc_c': 2156.665631658798}. Best is trial 24 with value: 0.9497920380273323.\n",
      "[I 2023-05-30 11:03:30,203] Trial 28 finished with value: 0.9497920380273323 and parameters: {'classifier': 'SVC', 'svc_c': 13.132641411338652}. Best is trial 24 with value: 0.9497920380273323.\n",
      "[I 2023-05-30 11:03:30,219] Trial 29 finished with value: 0.9497920380273323 and parameters: {'classifier': 'SVC', 'svc_c': 21.64024345047834}. Best is trial 24 with value: 0.9497920380273323.\n",
      "[I 2023-05-30 11:03:30,235] Trial 30 finished with value: 0.9396910279263221 and parameters: {'classifier': 'SVC', 'svc_c': 3.258313659057431}. Best is trial 24 with value: 0.9497920380273323.\n",
      "[I 2023-05-30 11:03:30,250] Trial 31 finished with value: 0.9497920380273323 and parameters: {'classifier': 'SVC', 'svc_c': 15.889509318417092}. Best is trial 24 with value: 0.9497920380273323.\n",
      "[I 2023-05-30 11:03:30,282] Trial 32 finished with value: 0.9497920380273323 and parameters: {'classifier': 'SVC', 'svc_c': 76.54453252695488}. Best is trial 24 with value: 0.9497920380273323.\n",
      "[I 2023-05-30 11:03:30,298] Trial 33 finished with value: 0.8998811645870469 and parameters: {'classifier': 'SVC', 'svc_c': 0.15654401716888933}. Best is trial 24 with value: 0.9497920380273323.\n",
      "[I 2023-05-30 11:03:30,313] Trial 34 finished with value: 0.929590017825312 and parameters: {'classifier': 'SVC', 'svc_c': 254.7078245825578}. Best is trial 24 with value: 0.9497920380273323.\n",
      "[I 2023-05-30 11:03:30,329] Trial 35 finished with value: 0.4988116458704694 and parameters: {'classifier': 'SVC', 'svc_c': 0.004610364543227892}. Best is trial 24 with value: 0.9497920380273323.\n",
      "[I 2023-05-30 11:03:30,344] Trial 36 finished with value: 0.929590017825312 and parameters: {'classifier': 'SVC', 'svc_c': 8244.403235092212}. Best is trial 24 with value: 0.9497920380273323.\n",
      "[I 2023-05-30 11:03:30,372] Trial 37 finished with value: 0.9497920380273323 and parameters: {'classifier': 'SVC', 'svc_c': 1.8732776595902747}. Best is trial 24 with value: 0.9497920380273323.\n",
      "[I 2023-05-30 11:03:30,392] Trial 38 finished with value: 0.4988116458704694 and parameters: {'classifier': 'SVC', 'svc_c': 0.001024860437004271}. Best is trial 24 with value: 0.9497920380273323.\n",
      "[I 2023-05-30 11:03:30,407] Trial 39 finished with value: 0.9497920380273323 and parameters: {'classifier': 'SVC', 'svc_c': 36.92788212095273}. Best is trial 24 with value: 0.9497920380273323.\n",
      "[I 2023-05-30 11:03:30,423] Trial 40 finished with value: 0.9497920380273323 and parameters: {'classifier': 'SVC', 'svc_c': 1.9736386322057191}. Best is trial 24 with value: 0.9497920380273323.\n",
      "[I 2023-05-30 11:03:30,439] Trial 41 finished with value: 0.9497920380273323 and parameters: {'classifier': 'SVC', 'svc_c': 30.923614954095136}. Best is trial 24 with value: 0.9497920380273323.\n"
     ]
    },
    {
     "name": "stderr",
     "output_type": "stream",
     "text": [
      "[I 2023-05-30 11:03:30,454] Trial 42 finished with value: 0.929590017825312 and parameters: {'classifier': 'SVC', 'svc_c': 708.1550578293574}. Best is trial 24 with value: 0.9497920380273323.\n",
      "[I 2023-05-30 11:03:30,486] Trial 43 finished with value: 0.9396910279263221 and parameters: {'classifier': 'SVC', 'svc_c': 5.15184583081535}. Best is trial 24 with value: 0.9497920380273323.\n",
      "[I 2023-05-30 11:03:30,502] Trial 44 finished with value: 0.929590017825312 and parameters: {'classifier': 'SVC', 'svc_c': 37429.37217556443}. Best is trial 24 with value: 0.9497920380273323.\n",
      "[I 2023-05-30 11:03:30,517] Trial 45 finished with value: 0.9497920380273323 and parameters: {'classifier': 'SVC', 'svc_c': 57.642941120425476}. Best is trial 24 with value: 0.9497920380273323.\n",
      "[I 2023-05-30 11:03:30,533] Trial 46 finished with value: 0.9197860962566845 and parameters: {'classifier': 'SVC', 'svc_c': 0.2878439895843587}. Best is trial 24 with value: 0.9497920380273323.\n",
      "[I 2023-05-30 11:03:30,548] Trial 47 finished with value: 0.929590017825312 and parameters: {'classifier': 'SVC', 'svc_c': 1168.238971687292}. Best is trial 24 with value: 0.9497920380273323.\n",
      "[I 2023-05-30 11:03:30,572] Trial 48 finished with value: 0.9497920380273323 and parameters: {'classifier': 'SVC', 'svc_c': 9.282114178368746}. Best is trial 24 with value: 0.9497920380273323.\n",
      "[I 2023-05-30 11:03:30,596] Trial 49 finished with value: 0.4988116458704694 and parameters: {'classifier': 'SVC', 'svc_c': 0.0038857346537374605}. Best is trial 24 with value: 0.9497920380273323.\n",
      "[I 2023-05-30 11:03:30,612] Trial 50 finished with value: 0.9197860962566845 and parameters: {'classifier': 'SVC', 'svc_c': 0.38393820301604403}. Best is trial 24 with value: 0.9497920380273323.\n",
      "[I 2023-05-30 11:03:30,627] Trial 51 finished with value: 0.929590017825312 and parameters: {'classifier': 'SVC', 'svc_c': 220.107764540813}. Best is trial 24 with value: 0.9497920380273323.\n",
      "[I 2023-05-30 11:03:30,643] Trial 52 finished with value: 0.9497920380273323 and parameters: {'classifier': 'SVC', 'svc_c': 62.81768979462681}. Best is trial 24 with value: 0.9497920380273323.\n",
      "[I 2023-05-30 11:03:30,674] Trial 53 finished with value: 0.9497920380273323 and parameters: {'classifier': 'SVC', 'svc_c': 17.502766045340408}. Best is trial 24 with value: 0.9497920380273323.\n",
      "[I 2023-05-30 11:03:30,690] Trial 54 finished with value: 0.929590017825312 and parameters: {'classifier': 'SVC', 'svc_c': 123338.89109007032}. Best is trial 24 with value: 0.9497920380273323.\n",
      "[I 2023-05-30 11:03:30,706] Trial 55 finished with value: 0.929590017825312 and parameters: {'classifier': 'SVC', 'svc_c': 1253.3316641552403}. Best is trial 24 with value: 0.9497920380273323.\n",
      "[I 2023-05-30 11:03:30,721] Trial 56 finished with value: 0.9497920380273323 and parameters: {'classifier': 'SVC', 'svc_c': 133.52870659518615}. Best is trial 24 with value: 0.9497920380273323.\n",
      "[I 2023-05-30 11:03:30,737] Trial 57 finished with value: 0.4988116458704694 and parameters: {'classifier': 'SVC', 'svc_c': 0.02451462536412022}. Best is trial 24 with value: 0.9497920380273323.\n",
      "[I 2023-05-30 11:03:30,768] Trial 58 finished with value: 0.9298871063576946 and parameters: {'classifier': 'SVC', 'svc_c': 0.8201773208954563}. Best is trial 24 with value: 0.9497920380273323.\n",
      "[I 2023-05-30 11:03:30,784] Trial 59 finished with value: 0.929590017825312 and parameters: {'classifier': 'SVC', 'svc_c': 341544.82695476536}. Best is trial 24 with value: 0.9497920380273323.\n",
      "[I 2023-05-30 11:03:30,800] Trial 60 finished with value: 0.929590017825312 and parameters: {'classifier': 'SVC', 'svc_c': 6639.049036336674}. Best is trial 24 with value: 0.9497920380273323.\n",
      "[I 2023-05-30 11:03:30,815] Trial 61 finished with value: 0.9497920380273323 and parameters: {'classifier': 'SVC', 'svc_c': 7.675630727871508}. Best is trial 24 with value: 0.9497920380273323.\n",
      "[I 2023-05-30 11:03:30,831] Trial 62 finished with value: 0.9497920380273323 and parameters: {'classifier': 'SVC', 'svc_c': 1.1563797676933996}. Best is trial 24 with value: 0.9497920380273323.\n",
      "[I 2023-05-30 11:03:30,850] Trial 63 finished with value: 0.9595959595959597 and parameters: {'classifier': 'SVC', 'svc_c': 161.59091829286348}. Best is trial 63 with value: 0.9595959595959597.\n",
      "[I 2023-05-30 11:03:30,873] Trial 64 finished with value: 0.929590017825312 and parameters: {'classifier': 'SVC', 'svc_c': 326.28472274123095}. Best is trial 63 with value: 0.9595959595959597.\n",
      "[I 2023-05-30 11:03:30,881] Trial 65 finished with value: 0.929590017825312 and parameters: {'classifier': 'SVC', 'svc_c': 2827.2422669251787}. Best is trial 63 with value: 0.9595959595959597.\n",
      "[I 2023-05-30 11:03:30,928] Trial 66 finished with value: 0.9393939393939394 and parameters: {'classifier': 'RandomForest', 'rf_max_depth': 4}. Best is trial 63 with value: 0.9595959595959597.\n",
      "[I 2023-05-30 11:03:30,944] Trial 67 finished with value: 0.9497920380273323 and parameters: {'classifier': 'SVC', 'svc_c': 19.328532240265233}. Best is trial 63 with value: 0.9595959595959597.\n",
      "[I 2023-05-30 11:03:30,960] Trial 68 finished with value: 0.9396910279263221 and parameters: {'classifier': 'SVC', 'svc_c': 184.1552753882656}. Best is trial 63 with value: 0.9595959595959597.\n",
      "[I 2023-05-30 11:03:30,976] Trial 69 finished with value: 0.8995840760546643 and parameters: {'classifier': 'SVC', 'svc_c': 0.07052966747924769}. Best is trial 63 with value: 0.9595959595959597.\n",
      "[I 2023-05-30 11:03:31,007] Trial 70 finished with value: 0.8998811645870469 and parameters: {'classifier': 'RandomForest', 'rf_max_depth': 2}. Best is trial 63 with value: 0.9595959595959597.\n",
      "[I 2023-05-30 11:03:31,023] Trial 71 finished with value: 0.9396910279263221 and parameters: {'classifier': 'SVC', 'svc_c': 2.566438619870663}. Best is trial 63 with value: 0.9595959595959597.\n",
      "[I 2023-05-30 11:03:31,038] Trial 72 finished with value: 0.9396910279263221 and parameters: {'classifier': 'SVC', 'svc_c': 4.493775049830322}. Best is trial 63 with value: 0.9595959595959597.\n",
      "[I 2023-05-30 11:03:31,054] Trial 73 finished with value: 0.9497920380273323 and parameters: {'classifier': 'SVC', 'svc_c': 34.84643788860952}. Best is trial 63 with value: 0.9595959595959597.\n",
      "[I 2023-05-30 11:03:31,086] Trial 74 finished with value: 0.929590017825312 and parameters: {'classifier': 'SVC', 'svc_c': 545.4040474031568}. Best is trial 63 with value: 0.9595959595959597.\n",
      "[I 2023-05-30 11:03:31,101] Trial 75 finished with value: 0.9298871063576946 and parameters: {'classifier': 'SVC', 'svc_c': 0.8326249118444787}. Best is trial 63 with value: 0.9595959595959597.\n",
      "[I 2023-05-30 11:03:31,117] Trial 76 finished with value: 0.9497920380273323 and parameters: {'classifier': 'SVC', 'svc_c': 92.31935859885347}. Best is trial 63 with value: 0.9595959595959597.\n",
      "[I 2023-05-30 11:03:31,133] Trial 77 finished with value: 0.9595959595959597 and parameters: {'classifier': 'SVC', 'svc_c': 7.460929664827024}. Best is trial 63 with value: 0.9595959595959597.\n",
      "[I 2023-05-30 11:03:31,154] Trial 78 finished with value: 0.929590017825312 and parameters: {'classifier': 'SVC', 'svc_c': 7873.6568308739115}. Best is trial 63 with value: 0.9595959595959597.\n",
      "[I 2023-05-30 11:03:31,181] Trial 79 finished with value: 0.9497920380273323 and parameters: {'classifier': 'SVC', 'svc_c': 17.64838924261753}. Best is trial 63 with value: 0.9595959595959597.\n",
      "[I 2023-05-30 11:03:31,196] Trial 80 finished with value: 0.929590017825312 and parameters: {'classifier': 'SVC', 'svc_c': 1160.0072071609113}. Best is trial 63 with value: 0.9595959595959597.\n",
      "[I 2023-05-30 11:03:31,212] Trial 81 finished with value: 0.9396910279263221 and parameters: {'classifier': 'SVC', 'svc_c': 4.826994213493041}. Best is trial 63 with value: 0.9595959595959597.\n",
      "[I 2023-05-30 11:03:31,228] Trial 82 finished with value: 0.9497920380273323 and parameters: {'classifier': 'SVC', 'svc_c': 1.302855733746651}. Best is trial 63 with value: 0.9595959595959597.\n",
      "[I 2023-05-30 11:03:31,243] Trial 83 finished with value: 0.9497920380273323 and parameters: {'classifier': 'SVC', 'svc_c': 75.17144058000768}. Best is trial 63 with value: 0.9595959595959597.\n",
      "[I 2023-05-30 11:03:31,259] Trial 84 finished with value: 0.9497920380273323 and parameters: {'classifier': 'SVC', 'svc_c': 17.560802879605372}. Best is trial 63 with value: 0.9595959595959597.\n"
     ]
    },
    {
     "name": "stderr",
     "output_type": "stream",
     "text": [
      "[I 2023-05-30 11:03:31,275] Trial 85 finished with value: 0.9197860962566845 and parameters: {'classifier': 'SVC', 'svc_c': 0.3562133765220864}. Best is trial 63 with value: 0.9595959595959597.\n",
      "[I 2023-05-30 11:03:31,306] Trial 86 finished with value: 0.9393939393939394 and parameters: {'classifier': 'RandomForest', 'rf_max_depth': 3}. Best is trial 63 with value: 0.9595959595959597.\n",
      "[I 2023-05-30 11:03:31,322] Trial 87 finished with value: 0.9396910279263221 and parameters: {'classifier': 'SVC', 'svc_c': 5.016803140768866}. Best is trial 63 with value: 0.9595959595959597.\n",
      "[I 2023-05-30 11:03:31,353] Trial 88 finished with value: 0.9396910279263221 and parameters: {'classifier': 'SVC', 'svc_c': 192.49345056646575}. Best is trial 63 with value: 0.9595959595959597.\n",
      "[I 2023-05-30 11:03:31,369] Trial 89 finished with value: 0.9497920380273323 and parameters: {'classifier': 'SVC', 'svc_c': 51.247441249262295}. Best is trial 63 with value: 0.9595959595959597.\n",
      "[I 2023-05-30 11:03:31,385] Trial 90 finished with value: 0.9298871063576946 and parameters: {'classifier': 'SVC', 'svc_c': 0.2300997194849243}. Best is trial 63 with value: 0.9595959595959597.\n",
      "[I 2023-05-30 11:03:31,400] Trial 91 finished with value: 0.9497920380273323 and parameters: {'classifier': 'SVC', 'svc_c': 13.627249504770218}. Best is trial 63 with value: 0.9595959595959597.\n",
      "[I 2023-05-30 11:03:31,416] Trial 92 finished with value: 0.929590017825312 and parameters: {'classifier': 'SVC', 'svc_c': 374.80088492683825}. Best is trial 63 with value: 0.9595959595959597.\n",
      "[I 2023-05-30 11:03:31,432] Trial 93 finished with value: 0.9497920380273323 and parameters: {'classifier': 'SVC', 'svc_c': 1.8116959275511697}. Best is trial 63 with value: 0.9595959595959597.\n",
      "[I 2023-05-30 11:03:31,447] Trial 94 finished with value: 0.9497920380273323 and parameters: {'classifier': 'SVC', 'svc_c': 50.02859734102366}. Best is trial 63 with value: 0.9595959595959597.\n",
      "[I 2023-05-30 11:03:31,479] Trial 95 finished with value: 0.929590017825312 and parameters: {'classifier': 'SVC', 'svc_c': 2485.3968226003967}. Best is trial 63 with value: 0.9595959595959597.\n",
      "[I 2023-05-30 11:03:31,495] Trial 96 finished with value: 0.9396910279263221 and parameters: {'classifier': 'SVC', 'svc_c': 5.0250276984250615}. Best is trial 63 with value: 0.9595959595959597.\n",
      "[I 2023-05-30 11:03:31,510] Trial 97 finished with value: 0.929590017825312 and parameters: {'classifier': 'SVC', 'svc_c': 332.04179763579776}. Best is trial 63 with value: 0.9595959595959597.\n",
      "[I 2023-05-30 11:03:31,526] Trial 98 finished with value: 0.9497920380273323 and parameters: {'classifier': 'SVC', 'svc_c': 26.60827984645829}. Best is trial 63 with value: 0.9595959595959597.\n",
      "[I 2023-05-30 11:03:31,573] Trial 99 finished with value: 0.9090909090909092 and parameters: {'classifier': 'RandomForest', 'rf_max_depth': 7}. Best is trial 63 with value: 0.9595959595959597.\n"
     ]
    },
    {
     "name": "stdout",
     "output_type": "stream",
     "text": [
      "FrozenTrial(number=63, state=TrialState.COMPLETE, values=[0.9595959595959597], datetime_start=datetime.datetime(2023, 5, 30, 11, 3, 30, 831604), datetime_complete=datetime.datetime(2023, 5, 30, 11, 3, 30, 850139), params={'classifier': 'SVC', 'svc_c': 161.59091829286348}, user_attrs={}, system_attrs={}, intermediate_values={}, distributions={'classifier': CategoricalDistribution(choices=('SVC', 'RandomForest')), 'svc_c': FloatDistribution(high=10000000000.0, log=True, low=1e-10, step=None)}, trial_id=63, value=None)\n"
     ]
    }
   ],
   "source": [
    "study = optuna.create_study(direction=\"maximize\")\n",
    "study.optimize(objective, n_trials=100)\n",
    "print(study.best_trial)"
   ]
  },
  {
   "cell_type": "code",
   "execution_count": 10,
   "id": "c24d6b48",
   "metadata": {},
   "outputs": [
    {
     "data": {
      "text/plain": [
       "SVC(C=161.59091829286348, gamma='auto')"
      ]
     },
     "execution_count": 10,
     "metadata": {},
     "output_type": "execute_result"
    }
   ],
   "source": [
    "svc = sklearn.svm.SVC(C=161.59091829286348, gamma='auto')\n",
    "svc.fit(X_train,y_train)"
   ]
  },
  {
   "cell_type": "code",
   "execution_count": 12,
   "id": "7505c01e",
   "metadata": {},
   "outputs": [],
   "source": [
    "y_pred = svc.predict(X_test)"
   ]
  },
  {
   "cell_type": "code",
   "execution_count": 13,
   "id": "ab5750bd",
   "metadata": {},
   "outputs": [
    {
     "name": "stdout",
     "output_type": "stream",
     "text": [
      "0.98\n"
     ]
    }
   ],
   "source": [
    "from sklearn.metrics import accuracy_score\n",
    "print(accuracy_score(y_test,y_pred))"
   ]
  },
  {
   "cell_type": "code",
   "execution_count": 18,
   "id": "b7615bca",
   "metadata": {},
   "outputs": [],
   "source": [
    "def report_performance(model):\n",
    "    print(\"\\n\\nConfusion Matrix:\")\n",
    "    print(\"{0}\".format(metrics.confusion_matrix(y_test, y_pred)))\n",
    "    print(\"\\n\\nClassification Report: \")\n",
    "    print(metrics.classification_report(y_test, y_pred))"
   ]
  },
  {
   "cell_type": "code",
   "execution_count": 19,
   "id": "29e670c3",
   "metadata": {},
   "outputs": [
    {
     "name": "stdout",
     "output_type": "stream",
     "text": [
      "\n",
      "\n",
      "Confusion Matrix:\n",
      "[[19  0  0]\n",
      " [ 0 15  0]\n",
      " [ 0  1 15]]\n",
      "\n",
      "\n",
      "Classification Report: \n",
      "              precision    recall  f1-score   support\n",
      "\n",
      "           0       1.00      1.00      1.00        19\n",
      "           1       0.94      1.00      0.97        15\n",
      "           2       1.00      0.94      0.97        16\n",
      "\n",
      "    accuracy                           0.98        50\n",
      "   macro avg       0.98      0.98      0.98        50\n",
      "weighted avg       0.98      0.98      0.98        50\n",
      "\n"
     ]
    }
   ],
   "source": [
    "report_performance(svc) "
   ]
  },
  {
   "cell_type": "markdown",
   "id": "2166d5e8",
   "metadata": {},
   "source": [
    "Optuna is a powerful tool for automating hyperparameter optimization and can significantly improve the performance of machine learning models by finding the best combination of hyperparameters. It simplifies the process of tuning hyperparameters, saving time and effort for machine learning practitioners and researchers."
   ]
  }
 ],
 "metadata": {
  "kernelspec": {
   "display_name": "Python 3 (ipykernel)",
   "language": "python",
   "name": "python3"
  },
  "language_info": {
   "codemirror_mode": {
    "name": "ipython",
    "version": 3
   },
   "file_extension": ".py",
   "mimetype": "text/x-python",
   "name": "python",
   "nbconvert_exporter": "python",
   "pygments_lexer": "ipython3",
   "version": "3.9.12"
  }
 },
 "nbformat": 4,
 "nbformat_minor": 5
}
