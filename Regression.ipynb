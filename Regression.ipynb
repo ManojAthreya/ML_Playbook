{
 "cells": [
  {
   "cell_type": "markdown",
   "id": "367b0a2e",
   "metadata": {},
   "source": [
    "# LINEAR REGRESSION"
   ]
  },
  {
   "cell_type": "markdown",
   "id": "b1906fa7",
   "metadata": {},
   "source": [
    "Linear regression is a type of statistical analysis used to predict the relationship between two variables. It assumes a linear relationship between the independent variable and the dependent variable, and aims to find the best-fitting line that describes the relationship. The line is determined by minimizing the sum of the squared differences between the predicted values and the actual values."
   ]
  },
  {
   "cell_type": "markdown",
   "id": "2728a2a7",
   "metadata": {},
   "source": [
    "### Simple Linear Regression"
   ]
  },
  {
   "cell_type": "raw",
   "id": "f2d7e483",
   "metadata": {},
   "source": [
    "1 Independent(X) & 1 Dependent Variable(y).\n",
    "The model estimates the slope and intercept of the line of best fit, which represents the relationship between the variables. \n",
    "The intercept represents the predicted value of the dependent variable when the independent variable is zero. (B0)\n",
    "The slope represents the change in the dependent variable for each unit change in the independent variable. (B1)\n",
    "\n",
    "Eqauation => Y= B0 + B1*(X)"
   ]
  },
  {
   "cell_type": "markdown",
   "id": "b76eafca",
   "metadata": {},
   "source": [
    "The goal of the linear regression algorithm is to get the best values for B0 and B1 to find the best fit line. The best fit line is a line that has the least error which means the error between predicted values and actual values should be minimum."
   ]
  },
  {
   "cell_type": "markdown",
   "id": "818cc4f4",
   "metadata": {},
   "source": [
    "In regression, the difference between the observed value of the dependent variable(yi) and the predicted value(predicted) is called the residuals."
   ]
  },
  {
   "cell_type": "markdown",
   "id": "f28fe810",
   "metadata": {},
   "source": [
    "Mathematically, the best fit line is obtained by minimizing the Residual Sum of Squares(RSS)."
   ]
  },
  {
   "cell_type": "markdown",
   "id": "af427f09",
   "metadata": {},
   "source": [
    "The cost function helps to work out the optimal values for B0 and B1, which provides the best fit line for the data points."
   ]
  },
  {
   "cell_type": "markdown",
   "id": "205ac498",
   "metadata": {},
   "source": [
    "In Linear Regression, generally Mean Squared Error (MSE) and Root Mean Sqaured Error (RMSE) cost function is used, which is the average of squared error that occurred between the ypredicted and yi.\n",
    "\n",
    "We calculate MSE using simple linear equation y=mx+b  "
   ]
  },
  {
   "cell_type": "markdown",
   "id": "a89a3cab",
   "metadata": {},
   "source": [
    "Generally the linear model makes prediction by simply computing the weighted sum of input features, plus the intercept term."
   ]
  },
  {
   "cell_type": "markdown",
   "id": "ee7f97d4",
   "metadata": {},
   "source": [
    "y_pred=B0+B1X1+B2X2+............+BnXn"
   ]
  },
  {
   "cell_type": "code",
   "execution_count": 26,
   "id": "4c171854",
   "metadata": {},
   "outputs": [],
   "source": [
    "import numpy as np\n",
    "import matplotlib.pyplot as plt\n",
    "import seaborn as sns\n",
    "import pandas as pd"
   ]
  },
  {
   "cell_type": "code",
   "execution_count": 18,
   "id": "de2815ba",
   "metadata": {},
   "outputs": [],
   "source": [
    "X = 2*np.random.rand(100,1)\n",
    "y = 4 + 3 * X +np.random.randn(100,1)"
   ]
  },
  {
   "cell_type": "code",
   "execution_count": 22,
   "id": "1bc7f369",
   "metadata": {},
   "outputs": [
    {
     "data": {
      "image/png": "[encoded data removed]",
      "text/plain": [
       "<Figure size 432x288 with 1 Axes>"
      ]
     },
     "metadata": {
      "needs_background": "light"
     },
     "output_type": "display_data"
    }
   ],
   "source": [
    "plt.scatter(X,y)\n",
    "plt.show()"
   ]
  },
  {
   "cell_type": "code",
   "execution_count": 33,
   "id": "978be62b",
   "metadata": {},
   "outputs": [
    {
     "data": {
      "text/plain": [
       "0.7686240922376624"
      ]
     },
     "execution_count": 33,
     "metadata": {},
     "output_type": "execute_result"
    }
   ],
   "source": [
    "from sklearn.linear_model import LinearRegression\n",
    "reg = LinearRegression().fit(X,y)\n",
    "reg.score(X,y)"
   ]
  },
  {
   "cell_type": "code",
   "execution_count": 34,
   "id": "f8e55163",
   "metadata": {},
   "outputs": [
    {
     "data": {
      "text/plain": [
       "array([[3.08771556]])"
      ]
     },
     "execution_count": 34,
     "metadata": {},
     "output_type": "execute_result"
    }
   ],
   "source": [
    "reg.coef_     #slope (B1)"
   ]
  },
  {
   "cell_type": "code",
   "execution_count": 35,
   "id": "93cac54f",
   "metadata": {},
   "outputs": [
    {
     "data": {
      "text/plain": [
       "array([3.79366221])"
      ]
     },
     "execution_count": 35,
     "metadata": {},
     "output_type": "execute_result"
    }
   ],
   "source": [
    "reg.intercept_  #Intercept(B0)"
   ]
  },
  {
   "cell_type": "code",
   "execution_count": 38,
   "id": "c8aec5b2",
   "metadata": {},
   "outputs": [
    {
     "data": {
      "text/plain": [
       "array([[3.79366221],\n",
       "       [9.96909333]])"
      ]
     },
     "execution_count": 38,
     "metadata": {},
     "output_type": "execute_result"
    }
   ],
   "source": [
    "X_new=np.array([[0],[2]])\n",
    "y_pred=reg.predict(X_new)\n",
    "y_pred"
   ]
  },
  {
   "cell_type": "code",
   "execution_count": 44,
   "id": "aab5ecc3",
   "metadata": {},
   "outputs": [
    {
     "data": {
      "image/png": "[encoded data removed]",
      "text/plain": [
       "<Figure size 432x288 with 1 Axes>"
      ]
     },
     "metadata": {
      "needs_background": "light"
     },
     "output_type": "display_data"
    }
   ],
   "source": [
    "plt.plot(X_new,y_pred,\"r-\")\n",
    "plt.scatter(X,y)\n",
    "plt.axis([0,2,0,15])\n",
    "plt.show()"
   ]
  },
  {
   "cell_type": "markdown",
   "id": "5dc7c7fa",
   "metadata": {},
   "source": [
    "This SVD approach of Scikit learn is O(n^2) The computation to train is very high and time it takes is slow. Once trained the predictions are fast."
   ]
  },
  {
   "cell_type": "markdown",
   "id": "66f4a0bc",
   "metadata": {},
   "source": [
    "Computational complexity is linear for no.of features and no.of predictions to make."
   ]
  },
  {
   "cell_type": "markdown",
   "id": "7e24d0ba",
   "metadata": {},
   "source": [
    "So far we looked for a single feature if there are multiple features and we need to reduce the cost function we use the Gradient Descent Approach.\n",
    "\n",
    "y_pred=B0+B1X1+B2X2+............+BnXn"
   ]
  },
  {
   "cell_type": "markdown",
   "id": "a8c61aea",
   "metadata": {},
   "source": [
    "### Gradient Descent for Linear Regression"
   ]
  },
  {
   "cell_type": "markdown",
   "id": "debb2839",
   "metadata": {},
   "source": [
    "Using the cost function, we’ll update the values of B0 and B1 such that the MSE value settles at the minima. There are 3 methods to find the minimum value using Gradient descent method. 1)Batch GD 2)Mini-Batch GD and 3) Stochastic GD "
   ]
  },
  {
   "cell_type": "markdown",
   "id": "7a4c4bc0",
   "metadata": {},
   "source": [
    "Gradient Descent is one of the optimization algorithms that optimize the cost function(objective function) to reach the optimal minimal solution. To find the optimum solution we need to reduce the cost function(MSE) for all data points. This is done by updating the values of B0 and B1 iteratively until we get an optimal solution."
   ]
  },
  {
   "cell_type": "markdown",
   "id": "eff43e52",
   "metadata": {},
   "source": [
    "Optimal Cost function (B0 and B1) reduces the MSE/RSE which provides best fit line. To find optimal cost function GD"
   ]
  },
  {
   "cell_type": "markdown",
   "id": "7cf07517",
   "metadata": {},
   "source": [
    "At first we will initialize the cost function to random and then using LEARNING RATE we will decrease cost function and make algorithm converge to minimum."
   ]
  },
  {
   "cell_type": "markdown",
   "id": "bb312774",
   "metadata": {},
   "source": [
    "Now we see the cost function for every Theta(B) value to attain minimum error"
   ]
  },
  {
   "cell_type": "markdown",
   "id": "64f10576",
   "metadata": {},
   "source": [
    "When we plot cost(y-axis) v/s Theta(X-axis) points using the learning rate we need to identify the global minimum(the least minimum) than the local minimum(second least min). "
   ]
  },
  {
   "cell_type": "markdown",
   "id": "1a8c9727",
   "metadata": {},
   "source": [
    "MSE model has the convex function which helps to get global minima, where it does not allow any 2 points on the curve of the cost v/s theta graph to cross."
   ]
  },
  {
   "cell_type": "markdown",
   "id": "f95f6551",
   "metadata": {},
   "source": [
    "Having same scale in the features helps to get to the minima easily. If features scaled the minimum points reach easily else (features not scaled): it takes a elongated bowl shape making it take more time to reach minimum."
   ]
  },
  {
   "cell_type": "markdown",
   "id": "0b8dc74f",
   "metadata": {},
   "source": [
    "Batch GD: Uses the whole training set to compute gradients at each step and hence it is slow when train set is huge."
   ]
  },
  {
   "cell_type": "markdown",
   "id": "bf168532",
   "metadata": {},
   "source": [
    "SGD: Takes random single instance from the training set to compute gradients. The cost functions bounces up and down so when algorithm stops the parameters are good but not best. It has a chance of getting global minima. SGB better than BatchGD"
   ]
  },
  {
   "cell_type": "markdown",
   "id": "f28159ad",
   "metadata": {},
   "source": [
    "Randomness is good but algo cannot settle to min value. So we can gradually reduce the 'Learning Rate'. Start with large Learning Rate and then make it smaller and smaller to reach the global minima. The LR is determined by learning schedule."
   ]
  },
  {
   "cell_type": "raw",
   "id": "37170144",
   "metadata": {},
   "source": [
    "Hyperparameters for SGD in SKLEARN:\n",
    "max_iter=1000 (no.of epochs/iterations to be performed on)\n",
    "tol=1e-3 (if loss in one epoch goes below 0.001 the algo stops and gives the params)\n",
    "eta0=0.1 (learning rate scheduler)\n",
    "penalty=None,l1,l2,elasticnet"
   ]
  },
  {
   "cell_type": "markdown",
   "id": "9fc15c46",
   "metadata": {},
   "source": [
    "MiniBatchGD: Computes gradients on small sets of instances called mini-batch. It also gets advantage from GPU's. MiniBatchGD would be almost near to the params predicted by SGD."
   ]
  },
  {
   "cell_type": "raw",
   "id": "a7c95cc6",
   "metadata": {},
   "source": [
    "#NOTE:\n",
    "There is no difference after training all the types of SVD, Batch, SGD, Mini batch ends with same model and does the same prediction."
   ]
  },
  {
   "cell_type": "code",
   "execution_count": 55,
   "id": "991cee8e",
   "metadata": {},
   "outputs": [
    {
     "name": "stdout",
     "output_type": "stream",
     "text": [
      "Coefficients: \n",
      " [938.23786125]\n",
      "Mean squared error: 2548.07\n",
      "Coefficient of determination: 0.47\n"
     ]
    },
    {
     "data": {
      "image/png": "[encoded data removed]",
      "text/plain": [
       "<Figure size 432x288 with 1 Axes>"
      ]
     },
     "metadata": {},
     "output_type": "display_data"
    }
   ],
   "source": [
    "import matplotlib.pyplot as plt\n",
    "import numpy as np\n",
    "from sklearn import datasets, linear_model\n",
    "from sklearn.metrics import mean_squared_error, r2_score\n",
    "\n",
    "# Load the diabetes dataset\n",
    "diabetes_X, diabetes_y = datasets.load_diabetes(return_X_y=True)\n",
    "\n",
    "# Use only one feature\n",
    "diabetes_X = diabetes_X[:, np.newaxis, 2]\n",
    "\n",
    "# Split the data into training/testing sets\n",
    "diabetes_X_train = diabetes_X[:-20]\n",
    "diabetes_X_test = diabetes_X[-20:]\n",
    "\n",
    "# Split the targets into training/testing sets\n",
    "diabetes_y_train = diabetes_y[:-20]\n",
    "diabetes_y_test = diabetes_y[-20:]\n",
    "\n",
    "# Create linear regression object\n",
    "regr = linear_model.LinearRegression()\n",
    "\n",
    "# Train the model using the training sets\n",
    "regr.fit(diabetes_X_train, diabetes_y_train)\n",
    "\n",
    "# Make predictions using the testing set\n",
    "diabetes_y_pred = regr.predict(diabetes_X_test)\n",
    "\n",
    "# The coefficients\n",
    "print(\"Coefficients: \\n\", regr.coef_)\n",
    "# The mean squared error\n",
    "print(\"Mean squared error: %.2f\" % mean_squared_error(diabetes_y_test, diabetes_y_pred))\n",
    "# The coefficient of determination: 1 is perfect prediction\n",
    "print(\"Coefficient of determination: %.2f\" % r2_score(diabetes_y_test, diabetes_y_pred))\n",
    "\n",
    "# Plot outputs\n",
    "plt.scatter(diabetes_X_test, diabetes_y_test, color=\"blue\")\n",
    "plt.plot(diabetes_X_test, diabetes_y_pred, color=\"red\")\n",
    "plt.xticks(())\n",
    "plt.yticks(())\n",
    "\n",
    "plt.show()"
   ]
  },
  {
   "cell_type": "markdown",
   "id": "170aded7",
   "metadata": {},
   "source": [
    "## Multiple Linear Regression"
   ]
  },
  {
   "cell_type": "raw",
   "id": "e23e7f72",
   "metadata": {},
   "source": [
    "Multiple linear regression is an extension of simple linear regression that involves more than one independent variable. Instead of predicting the dependent variable based on a single independent variable, multiple linear regression considers the influence of multiple independent variables on the dependent variable.\n",
    "\n",
    "The general form of multiple linear regression can be expressed as:\n",
    "\n",
    "y = β₀ + β₁x₁ + β₂x₂ + ... + βₚxₚ + ɛ\n",
    "\n",
    "y is the dependent variable\n",
    "x₁, x₂, ..., xₚ are the independent variables\n",
    "β₀ is the y-intercept\n",
    "β₁, β₂, ..., βₚ are the slopes corresponding to each independent variable\n",
    "ɛ represents the error term"
   ]
  },
  {
   "cell_type": "markdown",
   "id": "f6350049",
   "metadata": {},
   "source": [
    "In multiple linear regression, each independent variable has its own slope coefficient, representing the change in the dependent variable for a one-unit change in that specific independent variable while holding other independent variables constant. These coefficients allow us to assess the individual impact of each independent variable on the dependent variable while controlling for other factors."
   ]
  },
  {
   "cell_type": "markdown",
   "id": "d1d26868",
   "metadata": {},
   "source": [
    "Multiple linear regression is useful in situations where multiple factors can potentially influence the dependent variable simultaneously. It allows for a more comprehensive analysis of the relationships between variables and provides insights into how different independent variables contribute to the variation in the dependent variable."
   ]
  },
  {
   "cell_type": "markdown",
   "id": "b1157db3",
   "metadata": {},
   "source": [
    "The interpretation of the coefficients in multiple linear regression is crucial. The magnitude and sign of each coefficient indicate the direction and strength of the relationship between the corresponding independent variable and the dependent variable. Additionally, statistical tests and measures, such as the adjusted R-squared, F-test, and t-tests, can be used to assess the overall significance and goodness-of-fit of the multiple linear regression model."
   ]
  },
  {
   "cell_type": "markdown",
   "id": "fb708c10",
   "metadata": {},
   "source": [
    "## Polynomial Linear Regression"
   ]
  },
  {
   "cell_type": "markdown",
   "id": "ab6b4346",
   "metadata": {},
   "source": [
    "If data is more complex than a straight line, then we can use linear model to fit non-linear data by adding the polynomial degree (squares/cube/nth degree as a feature to the existing features) This is Polynomial Linear Regression."
   ]
  },
  {
   "cell_type": "code",
   "execution_count": 131,
   "id": "4882c115",
   "metadata": {},
   "outputs": [],
   "source": [
    "import numpy as np\n",
    "import matplotlib.pyplot as plt\n",
    "m=100\n",
    "X=6*np.random.rand(m,1) - 3\n",
    "y=0.5*X**2+X+2+np.random.randn(m,1)"
   ]
  },
  {
   "cell_type": "code",
   "execution_count": 132,
   "id": "aa85692f",
   "metadata": {},
   "outputs": [
    {
     "data": {
      "image/png": "[encoded data removed]",
      "text/plain": [
       "<Figure size 432x288 with 1 Axes>"
      ]
     },
     "metadata": {
      "needs_background": "light"
     },
     "output_type": "display_data"
    }
   ],
   "source": [
    "plt.scatter(X,y)\n",
    "plt.show()"
   ]
  },
  {
   "cell_type": "code",
   "execution_count": 133,
   "id": "21b6b02e",
   "metadata": {},
   "outputs": [
    {
     "name": "stdout",
     "output_type": "stream",
     "text": [
      "X[0]: [0.4823593]\n",
      "X_poly[0]: [1.         0.4823593  0.23267049]\n"
     ]
    }
   ],
   "source": [
    "from sklearn.preprocessing import PolynomialFeatures\n",
    "poly_f=PolynomialFeatures(degree=2)\n",
    "X_poly=poly_f.fit_transform(X)\n",
    "print('X[0]:',X[0])\n",
    "print('X_poly[0]:',X_poly[0])"
   ]
  },
  {
   "cell_type": "code",
   "execution_count": 125,
   "id": "099d0be6",
   "metadata": {},
   "outputs": [
    {
     "data": {
      "text/plain": [
       "(array([1.91383741]), array([[0.        , 1.04821456, 0.49171758]]))"
      ]
     },
     "execution_count": 125,
     "metadata": {},
     "output_type": "execute_result"
    }
   ],
   "source": [
    "from sklearn.linear_model import LinearRegression\n",
    "reg = LinearRegression()\n",
    "reg.fit(X_poly,y)\n",
    "reg.intercept_,reg.coef_"
   ]
  },
  {
   "cell_type": "code",
   "execution_count": 126,
   "id": "ba550b06",
   "metadata": {},
   "outputs": [],
   "source": [
    "X_new = np.linspace(-3, 3, 100).reshape(-1, 1)\n",
    "X_new_poly = poly_f.transform(X_new)\n",
    "y_new = reg.predict(X_new_poly)"
   ]
  },
  {
   "cell_type": "code",
   "execution_count": 127,
   "id": "baf9ba26",
   "metadata": {},
   "outputs": [
    {
     "data": {
      "image/png": "[encoded data removed]",
      "text/plain": [
       "<Figure size 432x288 with 1 Axes>"
      ]
     },
     "metadata": {
      "needs_background": "light"
     },
     "output_type": "display_data"
    }
   ],
   "source": [
    "plt.scatter(X, y, label='Original Data')\n",
    "plt.plot(X_new, y_new, color='red', label='Predictions')\n",
    "plt.xlabel('X')\n",
    "plt.ylabel('y')\n",
    "plt.legend()\n",
    "plt.show()"
   ]
  },
  {
   "cell_type": "code",
   "execution_count": 130,
   "id": "556facc4",
   "metadata": {},
   "outputs": [
    {
     "data": {
      "image/png": "[encoded data removed]",
      "text/plain": [
       "<Figure size 432x288 with 1 Axes>"
      ]
     },
     "metadata": {
      "needs_background": "light"
     },
     "output_type": "display_data"
    }
   ],
   "source": [
    "import numpy as np\n",
    "import matplotlib.pyplot as plt\n",
    "from sklearn.preprocessing import PolynomialFeatures\n",
    "from sklearn.linear_model import LinearRegression\n",
    "\n",
    "# Generate some example data\n",
    "X = np.array([1, 2, 3, 4, 5]).reshape(-1, 1)\n",
    "y = np.array([2, 4, 8, 16, 32])\n",
    "\n",
    "# Create polynomial features\n",
    "poly_features = PolynomialFeatures(degree=2)\n",
    "X_poly = poly_features.fit_transform(X)\n",
    "\n",
    "# Fit the polynomial regression model\n",
    "model = LinearRegression()\n",
    "model.fit(X_poly, y)\n",
    "\n",
    "# Generate predictions for new values\n",
    "X_new = np.linspace(0, 6, 100).reshape(-1, 1)\n",
    "X_new_poly = poly_features.transform(X_new)\n",
    "y_new = model.predict(X_new_poly)\n",
    "\n",
    "# Plot the original data and predictions\n",
    "plt.scatter(X, y, label='Original Data')\n",
    "plt.plot(X_new, y_new, color='red', label='Predictions')\n",
    "plt.xlabel('X')\n",
    "plt.ylabel('y')\n",
    "plt.legend()\n",
    "plt.show()"
   ]
  },
  {
   "cell_type": "code",
   "execution_count": null,
   "id": "15d53e30",
   "metadata": {},
   "outputs": [],
   "source": []
  }
 ],
 "metadata": {
  "kernelspec": {
   "display_name": "Python 3 (ipykernel)",
   "language": "python",
   "name": "python3"
  },
  "language_info": {
   "codemirror_mode": {
    "name": "ipython",
    "version": 3
   },
   "file_extension": ".py",
   "mimetype": "text/x-python",
   "name": "python",
   "nbconvert_exporter": "python",
   "pygments_lexer": "ipython3",
   "version": "3.9.12"
  }
 },
 "nbformat": 4,
 "nbformat_minor": 5
}
